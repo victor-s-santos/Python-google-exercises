{
 "cells": [
  {
   "cell_type": "markdown",
   "metadata": {},
   "source": [
    "# Basic lists exercises"
   ]
  },
  {
   "cell_type": "markdown",
   "metadata": {},
   "source": [
    "## First Exercise"
   ]
  },
  {
   "cell_type": "code",
   "execution_count": 1,
   "metadata": {},
   "outputs": [],
   "source": [
    "# D. Given a list of numbers, return a list where\n",
    "# all adjacent == elements have been reduced to a single element,\n",
    "# so [1, 2, 2, 3] returns [1, 2, 3]. You may create a new list or\n",
    "# modify the passed in list.\n",
    "def remove_adjacent(nums):\n",
    "    # +++your code here+++\n",
    "    return(nums)\n"
   ]
  },
  {
   "cell_type": "code",
   "execution_count": 5,
   "metadata": {},
   "outputs": [],
   "source": [
    "def remove_adjacent(nums):\n",
    "    lista = []\n",
    "    for n in nums:\n",
    "        if n not in lista:\n",
    "            lista.append(n)\n",
    "    return(lista)\n"
   ]
  },
  {
   "cell_type": "code",
   "execution_count": 6,
   "metadata": {},
   "outputs": [
    {
     "name": "stdout",
     "output_type": "stream",
     "text": [
      "remove_adjacent\n",
      " OK  got: [1, 2, 3] expected: [1, 2, 3]\n",
      " OK  got: [2, 3] expected: [2, 3]\n",
      " OK  got: [] expected: []\n"
     ]
    }
   ],
   "source": [
    "def test(got, expected):\n",
    "    if got == expected:\n",
    "        prefix = ' OK '\n",
    "    else:\n",
    "        prefix = '  X '\n",
    "    print('%s got: %s expected: %s' % (prefix, repr(got), repr(expected)))\n",
    "\n",
    "\n",
    "def main():\n",
    "    print('remove_adjacent')\n",
    "    test(remove_adjacent([1, 2, 2, 3]), [1, 2, 3])\n",
    "    test(remove_adjacent([2, 2, 3, 3, 3]), [2, 3])\n",
    "    test(remove_adjacent([]), [])\n",
    "\n",
    "if __name__ == '__main__':\n",
    "    main()\n"
   ]
  },
  {
   "cell_type": "markdown",
   "metadata": {},
   "source": [
    "## Second Exercise"
   ]
  },
  {
   "cell_type": "code",
   "execution_count": 9,
   "metadata": {},
   "outputs": [],
   "source": [
    "# E. Given two lists sorted in increasing order, create and return a merged\n",
    "# list of all the elements in sorted order. You may modify the passed in lists.\n",
    "# Ideally, the solution should work in \"linear\" time, making a single\n",
    "# pass of both lists.\n",
    "def linear_merge(list1, list2):\n",
    "    # +++your code here+++\n",
    "    return(list1, list2)\n"
   ]
  },
  {
   "cell_type": "code",
   "execution_count": 13,
   "metadata": {},
   "outputs": [],
   "source": [
    "def linear_merge(list1, list2):\n",
    "    sum_lista = list1 + list2\n",
    "    return(sum_lista)"
   ]
  },
  {
   "cell_type": "code",
   "execution_count": 16,
   "metadata": {},
   "outputs": [],
   "source": [
    "def linear_merge(list1, list2):\n",
    "    sum_lista = list1 + list2\n",
    "    return(sorted(sum_lista))"
   ]
  },
  {
   "cell_type": "code",
   "execution_count": 17,
   "metadata": {},
   "outputs": [
    {
     "name": "stdout",
     "output_type": "stream",
     "text": [
      "\n",
      "linear_merge\n",
      " OK  got: ['aa', 'bb', 'cc', 'xx', 'zz'] expected: ['aa', 'bb', 'cc', 'xx', 'zz']\n",
      " OK  got: ['aa', 'bb', 'cc', 'xx', 'zz'] expected: ['aa', 'bb', 'cc', 'xx', 'zz']\n",
      " OK  got: ['aa', 'aa', 'aa', 'bb', 'bb'] expected: ['aa', 'aa', 'aa', 'bb', 'bb']\n"
     ]
    }
   ],
   "source": [
    "def test(got, expected):\n",
    "    if got == expected:\n",
    "        prefix = ' OK '\n",
    "    else:\n",
    "        prefix = '  X '\n",
    "    print('%s got: %s expected: %s' % (prefix, repr(got), repr(expected)))\n",
    "\n",
    "def main():\n",
    "    print()\n",
    "    print('linear_merge')\n",
    "    test(linear_merge(['aa', 'xx', 'zz'], ['bb', 'cc']),\n",
    "         ['aa', 'bb', 'cc', 'xx', 'zz'])\n",
    "    test(linear_merge(['aa', 'xx'], ['bb', 'cc', 'zz']),\n",
    "         ['aa', 'bb', 'cc', 'xx', 'zz'])\n",
    "    test(linear_merge(['aa', 'aa'], ['aa', 'bb', 'bb']),\n",
    "         ['aa', 'aa', 'aa', 'bb', 'bb'])\n",
    "\n",
    "if __name__ == '__main__':\n",
    "    main()\n"
   ]
  }
 ],
 "metadata": {
  "kernelspec": {
   "display_name": "Python 3",
   "language": "python",
   "name": "python3"
  },
  "language_info": {
   "codemirror_mode": {
    "name": "ipython",
    "version": 3
   },
   "file_extension": ".py",
   "mimetype": "text/x-python",
   "name": "python",
   "nbconvert_exporter": "python",
   "pygments_lexer": "ipython3",
   "version": "3.6.5"
  }
 },
 "nbformat": 4,
 "nbformat_minor": 2
}
