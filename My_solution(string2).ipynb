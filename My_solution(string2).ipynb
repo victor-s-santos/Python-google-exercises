{
 "cells": [
  {
   "cell_type": "markdown",
   "metadata": {},
   "source": [
    "# Basic strings exercises"
   ]
  },
  {
   "cell_type": "markdown",
   "metadata": {},
   "source": [
    "## First Exercise"
   ]
  },
  {
   "cell_type": "code",
   "execution_count": 2,
   "metadata": {},
   "outputs": [],
   "source": [
    "# D. verbing\n",
    "# Given a string, if its length is at least 3,\n",
    "# add 'ing' to its end.\n",
    "# Unless it already ends in 'ing', in which case\n",
    "# add 'ly' instead.\n",
    "# If the string length is less than 3, leave it unchanged.\n",
    "# Return the resulting string.\n",
    "def verbing(s):\n",
    "    if len(s) >= 3:\n",
    "        s += 'ing'\n",
    "    else:\n",
    "        return s"
   ]
  },
  {
   "cell_type": "code",
   "execution_count": 30,
   "metadata": {},
   "outputs": [
    {
     "name": "stdout",
     "output_type": "stream",
     "text": [
      "str\n",
      "str\n",
      "ing\n"
     ]
    }
   ],
   "source": [
    "s = \"string\"\n",
    "print(s[0:3])\n",
    "print(s[:-3])\n",
    "print(s[-3:])"
   ]
  },
  {
   "cell_type": "code",
   "execution_count": 49,
   "metadata": {},
   "outputs": [],
   "source": [
    "def verbing(s):\n",
    "    if len(s) < 3:\n",
    "        return s\n",
    "    elif s[:-3] == 'ing':\n",
    "        s += 'ly'\n",
    "        return s\n",
    "    else:\n",
    "        s += 'ing'\n",
    "        return s"
   ]
  },
  {
   "cell_type": "code",
   "execution_count": 52,
   "metadata": {},
   "outputs": [],
   "source": [
    "def verbing(s):\n",
    "    if len(s) < 3:\n",
    "        return s\n",
    "    elif s[-3:] == 'ing':\n",
    "        s += 'ly'\n",
    "        return s\n",
    "    else:\n",
    "        s += 'ing'\n",
    "        return s"
   ]
  },
  {
   "cell_type": "code",
   "execution_count": 53,
   "metadata": {},
   "outputs": [
    {
     "name": "stdout",
     "output_type": "stream",
     "text": [
      "verbing\n",
      " OK  got: 'hailing' expected: 'hailing'\n",
      " OK  got: 'swimingly' expected: 'swimingly'\n",
      " OK  got: 'do' expected: 'do'\n"
     ]
    }
   ],
   "source": [
    "def test(got, expected):\n",
    "    if got == expected:\n",
    "        prefix = ' OK '\n",
    "    else:\n",
    "        prefix = '  X '\n",
    "    print('%s got: %s expected: %s' % (prefix, repr(got), repr(expected)))\n",
    "\n",
    "\n",
    "\n",
    "def main():\n",
    "    print('verbing')\n",
    "    test(verbing('hail'), 'hailing')\n",
    "    test(verbing('swiming'), 'swimingly')\n",
    "    test(verbing('do'), 'do')\n",
    "\n",
    "if __name__ == '__main__':\n",
    "    main()\n"
   ]
  },
  {
   "cell_type": "markdown",
   "metadata": {},
   "source": [
    "## Second Exercise"
   ]
  },
  {
   "cell_type": "code",
   "execution_count": 56,
   "metadata": {},
   "outputs": [],
   "source": [
    "# E. not_bad\n",
    "# Given a string, find the first appearance of the\n",
    "# substring 'not' and 'bad'. If the 'bad' follows\n",
    "# the 'not', replace the whole 'not'...'bad' substring\n",
    "# with 'good'.\n",
    "# Return the resulting string.\n",
    "# So 'This dinner is not that bad!' yields:\n",
    "# This dinner is good!\n",
    "def not_bad(s):\n",
    "    # +++your code here+++\n",
    "    return(s)"
   ]
  },
  {
   "cell_type": "code",
   "execution_count": 58,
   "metadata": {},
   "outputs": [],
   "source": [
    "def not_bad(s):\n",
    "    if 'not' in s:\n",
    "        s.replace('not', 'good')\n",
    "    return(s)"
   ]
  },
  {
   "cell_type": "code",
   "execution_count": 68,
   "metadata": {},
   "outputs": [],
   "source": [
    "def not_bad(s):\n",
    "    if 'not' in s:\n",
    "        s.replace('not', 'good')\n",
    "    return(s)"
   ]
  },
  {
   "cell_type": "code",
   "execution_count": 78,
   "metadata": {},
   "outputs": [],
   "source": [
    "def not_bad(s):\n",
    "    x = s[s.find(\"not\"):s.find(\"bad\")+3]\n",
    "    return(s.replace(x, 'good'))\n"
   ]
  },
  {
   "cell_type": "code",
   "execution_count": 80,
   "metadata": {},
   "outputs": [],
   "source": [
    "def not_bad(s):\n",
    "    return s.replace(s[s.find(\"not\"):s.find(\"bad\")+3], \"good\")"
   ]
  },
  {
   "cell_type": "code",
   "execution_count": 90,
   "metadata": {},
   "outputs": [],
   "source": [
    "def not_bad(s):\n",
    "    if \"not\" or \"bad\" not in s:\n",
    "        return s\n",
    "    return s.replace(s[s.find(\"not\"):s.find(\"bad\")+3], \"good\")"
   ]
  },
  {
   "cell_type": "code",
   "execution_count": 92,
   "metadata": {},
   "outputs": [],
   "source": [
    "def not_bad(s):\n",
    "    if \"not\" or \"bad\" not in s:\n",
    "        return s\n",
    "    return s.replace(s[s.find(\"not\"):s.find(\"bad\")+3], \"good\")"
   ]
  },
  {
   "cell_type": "code",
   "execution_count": 107,
   "metadata": {},
   "outputs": [],
   "source": [
    "def not_bad(s):\n",
    "    if \"not\" not in s and \"bad\" not in s:\n",
    "        return s\n",
    "    else:\n",
    "        return s.replace(s[s.find(\"not\"):s.find(\"bad\")+3], \"good\")"
   ]
  },
  {
   "cell_type": "code",
   "execution_count": 131,
   "metadata": {},
   "outputs": [],
   "source": [
    "def not_bad(s):\n",
    "    if len(s[s.find(\"not\"):s.find(\"bad\")+3]) == 0:\n",
    "        return s\n",
    "    else:\n",
    "        return s.replace(s[s.find(\"not\"):s.find(\"bad\")+3], \"good\")"
   ]
  },
  {
   "cell_type": "code",
   "execution_count": null,
   "metadata": {},
   "outputs": [],
   "source": [
    "def test(got, expected):\n",
    "    if got == expected:\n",
    "        prefix = ' OK '\n",
    "    else:\n",
    "        prefix = '  X '\n",
    "    print('%s got: %s expected: %s' % (prefix, repr(got), repr(expected)))"
   ]
  },
  {
   "cell_type": "code",
   "execution_count": 132,
   "metadata": {},
   "outputs": [
    {
     "name": "stdout",
     "output_type": "stream",
     "text": [
      "\n",
      "not_bad\n",
      " OK  got: 'This movie is good' expected: 'This movie is good'\n",
      " OK  got: 'This dinner is good!' expected: 'This dinner is good!'\n",
      " OK  got: 'This tea is not hot' expected: 'This tea is not hot'\n",
      " OK  got: \"It's bad yet not\" expected: \"It's bad yet not\"\n"
     ]
    }
   ],
   "source": [
    "def main():\n",
    "    print()\n",
    "    print('not_bad')\n",
    "    test(not_bad('This movie is not so bad'), 'This movie is good')\n",
    "    test(not_bad('This dinner is not that bad!'), 'This dinner is good!')\n",
    "    test(not_bad('This tea is not hot'), 'This tea is not hot')\n",
    "    test(not_bad(\"It's bad yet not\"), \"It's bad yet not\")\n",
    "\n",
    "if __name__ == '__main__':\n",
    "    main()\n"
   ]
  },
  {
   "cell_type": "code",
   "execution_count": 134,
   "metadata": {},
   "outputs": [],
   "source": [
    "# F. front_back\n",
    "# Consider dividing a string into two halves.\n",
    "# If the length is even, the front and back halves are the same length.\n",
    "# If the length is odd, we'll say that the extra char goes in the front half.\n",
    "# e.g. 'abcde', the front half is 'abc', the back half 'de'.\n",
    "# Given 2 strings, a and b, return a string of the form\n",
    "#  a-front + b-front + a-back + b-back\n",
    "def front_back(a, b):\n",
    "    # +++your code here+++\n",
    "    return(a, b)"
   ]
  },
  {
   "cell_type": "code",
   "execution_count": 4,
   "metadata": {},
   "outputs": [
    {
     "name": "stdout",
     "output_type": "stream",
     "text": [
      "St\n",
      "ring\n"
     ]
    }
   ],
   "source": [
    "string = \"String\"\n",
    "first_half = string[:2]\n",
    "second_half = string[2:]\n",
    "print(first_half)\n",
    "print(second_half)"
   ]
  },
  {
   "cell_type": "code",
   "execution_count": 22,
   "metadata": {},
   "outputs": [
    {
     "name": "stdout",
     "output_type": "stream",
     "text": [
      "Str\n",
      "ing\n"
     ]
    }
   ],
   "source": [
    "#for even length\n",
    "string = \"String\"\n",
    "s = int(len(string)/2)\n",
    "first_half = string[0:s]\n",
    "second_half = string[s:]\n",
    "print(first_half)\n",
    "print(second_half)"
   ]
  },
  {
   "cell_type": "code",
   "execution_count": 23,
   "metadata": {},
   "outputs": [
    {
     "name": "stdout",
     "output_type": "stream",
     "text": [
      "Str\n",
      "ing0\n"
     ]
    }
   ],
   "source": [
    "string = \"String0\"\n",
    "s = int(len(string)/2)\n",
    "first_half = string[0:s]\n",
    "second_half = string[s:]\n",
    "print(first_half)\n",
    "print(second_half)\n",
    "#I can't do this way"
   ]
  },
  {
   "cell_type": "code",
   "execution_count": 15,
   "metadata": {},
   "outputs": [
    {
     "name": "stdout",
     "output_type": "stream",
     "text": [
      "é impar\n",
      "Stri\n",
      "ng0\n"
     ]
    }
   ],
   "source": [
    "string = \"String0\"\n",
    "if len(string) % 2 == 0:\n",
    "    first_half = string[:int(len(string)/2)]\n",
    "    second_half = string[int(len(string)/2):]\n",
    "    print(\"é par\")\n",
    "else:\n",
    "    first_half = string[:int(len(string)/2)+1]\n",
    "    second_half = string[int(len(string)/2)+1:]\n",
    "    print(\"é impar\")\n",
    "print(first_half)\n",
    "print(second_half)\n",
    "#I can do this way"
   ]
  },
  {
   "cell_type": "code",
   "execution_count": 20,
   "metadata": {},
   "outputs": [],
   "source": [
    "def front_back(a, b):\n",
    "    if len(a) % 2 == 0:\n",
    "        first_half = a[:int(len(a)/2)]\n",
    "        second_half = a[int(len(a)/2):]\n",
    "    else:\n",
    "        first_half = a[:int(len(a)/2)+1]\n",
    "        second_half = a[int(len(a)/2)+1:]\n",
    "    return(first_half + b[:int(len(b)/2)] + second_half + b[int(len(b)/2):])\n",
    "    "
   ]
  },
  {
   "cell_type": "code",
   "execution_count": 22,
   "metadata": {},
   "outputs": [],
   "source": [
    "def front_back(a, b):\n",
    "    if len(a) % 2 == 0:\n",
    "        first_half = a[:int(len(a)/2)]\n",
    "        second_half = a[int(len(a)/2):]\n",
    "    else:\n",
    "        first_half = a[:int(len(a)/2)+1]\n",
    "        second_half = a[int(len(a)/2)+1:]\n",
    "    \n",
    "    if len(b) % 2 == 0:\n",
    "        first_half_b = b[:int(len(b)/2)]\n",
    "        second_half_b = b[int(len(b)/2):]\n",
    "    else:\n",
    "        first_half_b = b[:int(len(b)/2)+1]\n",
    "        second_half_b = b[int(len(b)/2)+1:]\n",
    "    return(first_half + first_half_b + second_half + second_half_b)"
   ]
  },
  {
   "cell_type": "code",
   "execution_count": 23,
   "metadata": {},
   "outputs": [
    {
     "name": "stdout",
     "output_type": "stream",
     "text": [
      "\n",
      "front_back\n",
      " OK  got: 'abxcdy' expected: 'abxcdy'\n",
      " OK  got: 'abcxydez' expected: 'abcxydez'\n",
      " OK  got: 'KitDontenut' expected: 'KitDontenut'\n"
     ]
    }
   ],
   "source": [
    "def test(got, expected):\n",
    "    if got == expected:\n",
    "        prefix = ' OK '\n",
    "    else:\n",
    "        prefix = '  X '\n",
    "    print('%s got: %s expected: %s' % (prefix, repr(got), repr(expected)))\n",
    "\n",
    "\n",
    "def main():\n",
    "    print()\n",
    "    print('front_back')\n",
    "    test(front_back('abcd', 'xy'), 'abxcdy')\n",
    "    test(front_back('abcde', 'xyz'), 'abcxydez')\n",
    "    test(front_back('Kitten', 'Donut'), 'KitDontenut')\n",
    "\n",
    "\n",
    "if __name__ == '__main__':\n",
    "    main()\n"
   ]
  }
 ],
 "metadata": {
  "kernelspec": {
   "display_name": "Python 3",
   "language": "python",
   "name": "python3"
  },
  "language_info": {
   "codemirror_mode": {
    "name": "ipython",
    "version": 3
   },
   "file_extension": ".py",
   "mimetype": "text/x-python",
   "name": "python",
   "nbconvert_exporter": "python",
   "pygments_lexer": "ipython3",
   "version": "3.6.5"
  }
 },
 "nbformat": 4,
 "nbformat_minor": 2
}
