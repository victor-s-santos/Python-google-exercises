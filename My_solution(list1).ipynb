{
 "cells": [
  {
   "cell_type": "markdown",
   "metadata": {},
   "source": [
    "# Basic lists exercises"
   ]
  },
  {
   "cell_type": "markdown",
   "metadata": {},
   "source": [
    "## First Exercise"
   ]
  },
  {
   "cell_type": "code",
   "execution_count": 3,
   "metadata": {},
   "outputs": [],
   "source": [
    "# A. match_ends\n",
    "# Given a list of strings, return the count of the number of\n",
    "# strings where the string length is 2 or more and the first\n",
    "# and last chars of the string are the same.\n",
    "# Note: python does not have a ++ operator, but += works.\n",
    "def match_ends(words):\n",
    "    # +++your code here+++\n",
    "    return words"
   ]
  },
  {
   "cell_type": "code",
   "execution_count": 5,
   "metadata": {},
   "outputs": [],
   "source": [
    "def match_ends(words):\n",
    "    return len(words)"
   ]
  },
  {
   "cell_type": "code",
   "execution_count": 9,
   "metadata": {},
   "outputs": [],
   "source": [
    "def match_ends(words):\n",
    "    count = 0\n",
    "    for i in range(len(words)):\n",
    "        if i >= 2:\n",
    "            count += 1\n",
    "    return count"
   ]
  },
  {
   "cell_type": "code",
   "execution_count": 22,
   "metadata": {},
   "outputs": [],
   "source": [
    "def match_ends(words):\n",
    "    count = 0\n",
    "    for palavras in words:\n",
    "        if len(palavras) >= 2:\n",
    "            count += 1\n",
    "    return count"
   ]
  },
  {
   "cell_type": "code",
   "execution_count": 25,
   "metadata": {},
   "outputs": [],
   "source": [
    "def match_ends(words):\n",
    "    count = 0\n",
    "    for palavras in words:\n",
    "        if len(palavras) >= 2:\n",
    "            if palavras[0] == palavras[-1]:\n",
    "                count += 1\n",
    "    return count"
   ]
  },
  {
   "cell_type": "code",
   "execution_count": 26,
   "metadata": {},
   "outputs": [
    {
     "name": "stdout",
     "output_type": "stream",
     "text": [
      "match_ends\n",
      " OK  got: 3 expected: 3\n",
      " OK  got: 2 expected: 2\n",
      " OK  got: 1 expected: 1\n"
     ]
    }
   ],
   "source": [
    "def test(got, expected):\n",
    "    if got == expected:\n",
    "        prefix = ' OK '\n",
    "    else:\n",
    "        prefix = '  X '\n",
    "    print('%s got: %s expected: %s' % (prefix, repr(got), repr(expected)))\n",
    "\n",
    "\n",
    "def main():\n",
    "    print('match_ends')\n",
    "    test(match_ends(['aba', 'xyz', 'aa', 'x', 'bbb']), 3)\n",
    "    test(match_ends(['', 'x', 'xy', 'xyx', 'xx']), 2)\n",
    "    test(match_ends(['aaa', 'be', 'abc', 'hello']), 1)\n",
    "\n",
    "if __name__ == '__main__':\n",
    "    main()"
   ]
  },
  {
   "cell_type": "markdown",
   "metadata": {},
   "source": [
    "## Second Exercise"
   ]
  },
  {
   "cell_type": "code",
   "execution_count": 28,
   "metadata": {},
   "outputs": [],
   "source": [
    "# B. front_x\n",
    "# Given a list of strings, return a list with the strings\n",
    "# in sorted order, except group all the strings that begin with 'x' first.\n",
    "# e.g. ['mix', 'xyz', 'apple', 'xanadu', 'aardvark'] yields\n",
    "# ['xanadu', 'xyz', 'aardvark', 'apple', 'mix']\n",
    "# Hint: this can be done by making 2 lists and sorting each of them\n",
    "# before combining them.\n",
    "def front_x(words):\n",
    "    # +++your code here+++\n",
    "    return words"
   ]
  },
  {
   "cell_type": "code",
   "execution_count": 30,
   "metadata": {},
   "outputs": [],
   "source": [
    "def front_x(words):\n",
    "    return sorted(words)"
   ]
  },
  {
   "cell_type": "code",
   "execution_count": 16,
   "metadata": {},
   "outputs": [],
   "source": [
    "def front_x(words):\n",
    "    list2 = []\n",
    "    for letter in words:\n",
    "        if letter[0] == 'x':\n",
    "            list2.append(letter)\n",
    "    return sorted(list2)"
   ]
  },
  {
   "cell_type": "code",
   "execution_count": 18,
   "metadata": {},
   "outputs": [],
   "source": [
    "def front_x(words):\n",
    "    list1 = []\n",
    "    list2 = []\n",
    "    for letter in words:\n",
    "        if letter[0] == 'x':\n",
    "            list2.append(letter)\n",
    "        else:\n",
    "            list1.append(letter)\n",
    "    return sorted(list2 + list1)"
   ]
  },
  {
   "cell_type": "code",
   "execution_count": 21,
   "metadata": {},
   "outputs": [],
   "source": [
    "def front_x(words):\n",
    "    list1 = []\n",
    "    list2 = []\n",
    "    for letter in words:\n",
    "        if letter[0] == 'x':\n",
    "            list2.append(letter)\n",
    "        else:\n",
    "            list1.append(letter)\n",
    "    return sorted(list2)+sorted(list1)"
   ]
  },
  {
   "cell_type": "code",
   "execution_count": 22,
   "metadata": {},
   "outputs": [
    {
     "name": "stdout",
     "output_type": "stream",
     "text": [
      "\n",
      "front_x\n",
      " OK  got: ['xaa', 'xzz', 'axx', 'bbb', 'ccc'] expected: ['xaa', 'xzz', 'axx', 'bbb', 'ccc']\n",
      " OK  got: ['xaa', 'xcc', 'aaa', 'bbb', 'ccc'] expected: ['xaa', 'xcc', 'aaa', 'bbb', 'ccc']\n",
      " OK  got: ['xanadu', 'xyz', 'aardvark', 'apple', 'mix'] expected: ['xanadu', 'xyz', 'aardvark', 'apple', 'mix']\n"
     ]
    }
   ],
   "source": [
    "def test(got, expected):\n",
    "    if got == expected:\n",
    "        prefix = ' OK '\n",
    "    else:\n",
    "        prefix = '  X '\n",
    "    print('%s got: %s expected: %s' % (prefix, repr(got), repr(expected)))\n",
    "\n",
    "def main():\n",
    "    print()\n",
    "    print('front_x')\n",
    "    test(front_x(['bbb', 'ccc', 'axx', 'xzz', 'xaa']),\n",
    "         ['xaa', 'xzz', 'axx', 'bbb', 'ccc'])\n",
    "    test(front_x(['ccc', 'bbb', 'aaa', 'xcc', 'xaa']),\n",
    "         ['xaa', 'xcc', 'aaa', 'bbb', 'ccc'])\n",
    "    test(front_x(['mix', 'xyz', 'apple', 'xanadu', 'aardvark']),\n",
    "         ['xanadu', 'xyz', 'aardvark', 'apple', 'mix'])\n",
    "\n",
    "if __name__ == '__main__':\n",
    "    main()"
   ]
  },
  {
   "cell_type": "markdown",
   "metadata": {},
   "source": [
    "## Third Exercise"
   ]
  },
  {
   "cell_type": "code",
   "execution_count": 23,
   "metadata": {},
   "outputs": [],
   "source": [
    "# C. sort_last\n",
    "# Given a list of non-empty tuples, return a list sorted in increasing\n",
    "# order by the last element in each tuple.\n",
    "# e.g. [(1, 7), (1, 3), (3, 4, 5), (2, 2)] yields\n",
    "# [(2, 2), (1, 3), (3, 4, 5), (1, 7)]\n",
    "# Hint: use a custom key= function to extract the last element form each tuple.\n",
    "def sort_last(tuples):\n",
    "    # +++your code here+++\n",
    "    return"
   ]
  },
  {
   "cell_type": "code",
   "execution_count": 3,
   "metadata": {},
   "outputs": [],
   "source": [
    "def sort_last(tuples):\n",
    "    lista = []\n",
    "    for n in tuples:\n",
    "        lista.append(n)\n",
    "    return sorted(lista)"
   ]
  },
  {
   "cell_type": "code",
   "execution_count": 2,
   "metadata": {},
   "outputs": [],
   "source": [
    "def sort_last(tuples):\n",
    "    return sorted(tuples)"
   ]
  },
  {
   "cell_type": "code",
   "execution_count": 4,
   "metadata": {},
   "outputs": [
    {
     "name": "stdout",
     "output_type": "stream",
     "text": [
      "Sorted list: [(121, 0), (32, 10), (33, 12), (10, 22)]\n"
     ]
    }
   ],
   "source": [
    "# return the last element of any tuple from the list\n",
    "def takeLast(elem):\n",
    "    return elem[-1]\n",
    "\n",
    "# random list of tuples\n",
    "random = [(10, 22), (33, 12), (32, 10), (121, 0)]\n",
    "sortedList = sorted(random, key=takeLast)\n",
    "\n",
    "print('Sorted list:', sortedList)"
   ]
  },
  {
   "cell_type": "code",
   "execution_count": 5,
   "metadata": {},
   "outputs": [],
   "source": [
    "def sort_last(tuples):\n",
    "    def takeLast(elem):\n",
    "        return elem[-1]\n",
    "    \n",
    "    return sorted(tuples, key=takeLast)\n",
    "\n",
    "#this works but isn't beautiful!"
   ]
  },
  {
   "cell_type": "code",
   "execution_count": 12,
   "metadata": {},
   "outputs": [],
   "source": [
    "def sort_last(tuples):\n",
    "    last = lambda elem : elem[-1]     \n",
    "    return sorted(tuples, key=last)\n",
    "#this is beautiful"
   ]
  },
  {
   "cell_type": "code",
   "execution_count": 13,
   "metadata": {},
   "outputs": [
    {
     "name": "stdout",
     "output_type": "stream",
     "text": [
      "sort_last\n",
      " OK  got: [(2, 1), (3, 2), (1, 3)] expected: [(2, 1), (3, 2), (1, 3)]\n",
      " OK  got: [(3, 1), (1, 2), (2, 3)] expected: [(3, 1), (1, 2), (2, 3)]\n",
      " OK  got: [(2, 2), (1, 3), (3, 4, 5), (1, 7)] expected: [(2, 2), (1, 3), (3, 4, 5), (1, 7)]\n"
     ]
    }
   ],
   "source": [
    "def test(got, expected):\n",
    "    if got == expected:\n",
    "        prefix = ' OK '\n",
    "    else:\n",
    "        prefix = '  X '\n",
    "    print('%s got: %s expected: %s' % (prefix, repr(got), repr(expected)))\n",
    "\n",
    "def main():\n",
    "    print('sort_last')\n",
    "    test(sort_last([(1, 3), (3, 2), (2, 1)]),\n",
    "         [(2, 1), (3, 2), (1, 3)])\n",
    "    test(sort_last([(2, 3), (1, 2), (3, 1)]),\n",
    "         [(3, 1), (1, 2), (2, 3)])\n",
    "    test(sort_last([(1, 7), (1, 3), (3, 4, 5), (2, 2)]),\n",
    "         [(2, 2), (1, 3), (3, 4, 5), (1, 7)])\n",
    "\n",
    "\n",
    "if __name__ == '__main__':\n",
    "    main()"
   ]
  }
 ],
 "metadata": {
  "kernelspec": {
   "display_name": "Python 3",
   "language": "python",
   "name": "python3"
  },
  "language_info": {
   "codemirror_mode": {
    "name": "ipython",
    "version": 3
   },
   "file_extension": ".py",
   "mimetype": "text/x-python",
   "name": "python",
   "nbconvert_exporter": "python",
   "pygments_lexer": "ipython3",
   "version": "3.6.5"
  }
 },
 "nbformat": 4,
 "nbformat_minor": 2
}
